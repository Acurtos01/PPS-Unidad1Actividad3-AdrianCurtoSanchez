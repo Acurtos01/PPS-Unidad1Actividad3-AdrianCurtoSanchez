{
 "cells": [
  {
   "cell_type": "markdown",
   "id": "6850bdb6-9d23-4c17-86d2-41616f36ed55",
   "metadata": {},
   "source": [
    "# Tests calculadora en Python"
   ]
  },
  {
   "cell_type": "markdown",
   "id": "844f9db7-4455-42ef-8251-ccc8380deb74",
   "metadata": {},
   "source": [
    "## Test Caja Negra"
   ]
  },
  {
   "cell_type": "markdown",
   "id": "cdd3ab68-a097-4b86-a4f9-acdf59574b62",
   "metadata": {},
   "source": [
    "Dada la función `is_number()` realizaremos tests de **equivalencia** y **valores límite**."
   ]
  },
  {
   "cell_type": "code",
   "execution_count": 1,
   "id": "bd96e3d7-5f6b-46ad-9414-d02e46f8ba2a",
   "metadata": {},
   "outputs": [],
   "source": [
    "def is_number(a):\n",
    "    return isinstance(a, (int, float, complex))"
   ]
  },
  {
   "cell_type": "markdown",
   "id": "343288d8-834a-459c-b722-5f2dfaa4914e",
   "metadata": {},
   "source": [
    "Creamos la clase de test `TestIsNumber()` del programa llamado `calculadora`."
   ]
  },
  {
   "cell_type": "code",
   "execution_count": null,
   "id": "a3e2c2bf-5dbe-4f78-a5ab-f56bb3f92360",
   "metadata": {},
   "outputs": [],
   "source": [
    "import unitest\n",
    "import calculadora as ca\n",
    "\n",
    "\n",
    "class TestIsNumber(unittest.TestCase):\n",
    "    def test_integer(self):\n",
    "        self.assertTrue(ca.is_number(1))\n",
    "        self.assertTrue(ca.is_number(-1))\n",
    "        self.assertTrue(ca.is_number(0))\n",
    "        self.assertTrue(ca.is_number(3))\n",
    "        \n",
    "    def test_great_integer(self):\n",
    "        self.assertTrue(ca.is_number(1111111111111111111111111111111111111111111111111111111111111111111111))\n",
    "\n",
    "    def test_float(self):\n",
    "        self.assertTrue(ca.is_number(1.5))\n",
    "        self.assertTrue(ca.is_number(-1.5))\n",
    "        self.assertTrue(ca.is_number(-0))\n",
    "        self.assertTrue(ca.is_number(0.00000000000000000000000000000000000000001))\n",
    "\n",
    "    def test_string_number(self):\n",
    "        self.assertFalse(ca.is_number(\"2.5\"))\n",
    "        self.assertFlase(ca.is_number(\"2\"))\n",
    "        self.assertFlase(ca.is_number(\"0\"))\n",
    "\n",
    "    def test_string_non_number(self):\n",
    "        self.assertFalse(ca.is_number(\"hello\"))\n",
    "        self.assertFalse(ca.is_number(\"\"))\n",
    "\n",
    "    def test_none(self):\n",
    "        self.assertFalse(ca.is_number(None))\n",
    "\n",
    "    def test_boolean(self):\n",
    "        self.assertFlase(ca.is_number(True))\n",
    "        self.assertFalse(ca.is_number(False))\n",
    "\n",
    "if __name__ == '__main__':\n",
    "    unittest.main()"
   ]
  },
  {
   "cell_type": "markdown",
   "id": "93ab3288-5f41-4b00-98b1-43e14c79f21d",
   "metadata": {},
   "source": [
    "Creamos la clase de test `TesDivision()` del programa llamado `calculadora`."
   ]
  },
  {
   "cell_type": "code",
   "execution_count": null,
   "id": "6ba226f6-f123-4fd0-a601-9ded4e2faa08",
   "metadata": {},
   "outputs": [],
   "source": [
    "def division(a, b):\n",
    "    return a / b"
   ]
  },
  {
   "cell_type": "code",
   "execution_count": null,
   "id": "4bc5a6f7-5a22-457b-a651-a3aaa80205fb",
   "metadata": {},
   "outputs": [],
   "source": [
    "import unitest\n",
    "import calculadora as ca\n",
    "\n",
    "\n",
    "class TestDivision(unittest.TestCase):\n",
    "    def test_Positivo(self):\n",
    "        self.assertEqual(ca.division(1,1),1)\n",
    "        \n",
    "    def test_Divisor0(self):\n",
    "        self.expectedFailure(ca.division(1,0),False)\n",
    "        \n",
    "    def test_positivo(self):\n",
    "        self.assertFalse(ca.division(1,3),False)\n",
    "\n",
    "if __name__ == '__main__':\n",
    "    unittest.main()"
   ]
  },
  {
   "cell_type": "markdown",
   "id": "07de9088-875f-494f-8c21-8ca7e750a2de",
   "metadata": {},
   "source": [
    "## Test Caja Blanca"
   ]
  },
  {
   "cell_type": "code",
   "execution_count": null,
   "id": "8eca1613-da5d-4e84-b849-e9bf5d9ce543",
   "metadata": {},
   "outputs": [],
   "source": []
  },
  {
   "cell_type": "code",
   "execution_count": 1,
   "id": "2d5071c7-251e-46ac-8621-ec8d730bb66d",
   "metadata": {},
   "outputs": [],
   "source": [
    "def is_number(a):\n",
    "    return isinstance(a, (int, float, complex))"
   ]
  },
  {
   "cell_type": "code",
   "execution_count": null,
   "id": "127c95a3-6a0e-489d-8ae6-2ad8171b51b0",
   "metadata": {},
   "outputs": [],
   "source": [
    "def division(a, b):\n",
    "    return a / b"
   ]
  },
  {
   "cell_type": "code",
   "execution_count": null,
   "id": "153ab640-93e0-46b5-83cd-7784b5f409d6",
   "metadata": {},
   "outputs": [],
   "source": [
    "def multiplicacion(a, b):\n",
    "    return a * b"
   ]
  }
 ],
 "metadata": {
  "kernelspec": {
   "display_name": "Python 3 (ipykernel)",
   "language": "python",
   "name": "python3"
  },
  "language_info": {
   "codemirror_mode": {
    "name": "ipython",
    "version": 3
   },
   "file_extension": ".py",
   "mimetype": "text/x-python",
   "name": "python",
   "nbconvert_exporter": "python",
   "pygments_lexer": "ipython3",
   "version": "3.12.8"
  }
 },
 "nbformat": 4,
 "nbformat_minor": 5
}
