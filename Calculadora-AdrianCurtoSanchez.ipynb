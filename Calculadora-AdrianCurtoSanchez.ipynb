{
 "cells": [
  {
   "cell_type": "markdown",
   "id": "6850bdb6-9d23-4c17-86d2-41616f36ed55",
   "metadata": {},
   "source": [
    "# Calculadora en Python"
   ]
  },
  {
   "cell_type": "markdown",
   "id": "844f9db7-4455-42ef-8251-ccc8380deb74",
   "metadata": {},
   "source": [
    "Comenzamos creando las funciones básicas:\n",
    "- suma: Suma de dos números.\n",
    "- resta: Resta de dos números\n",
    "- multiplicacion: Multiplicación de dos números.\n",
    "- division: División de dos números.\n",
    "- isNumber: Indica si el argumento introducido es un número o no.\n",
    "- mayorCero: indica si el número pasado es mayor que cero.\n"
   ]
  },
  {
   "cell_type": "code",
   "execution_count": 1,
   "id": "bd96e3d7-5f6b-46ad-9414-d02e46f8ba2a",
   "metadata": {},
   "outputs": [],
   "source": [
    "def suma(a, b):\n",
    "    return a + b\n",
    "\n",
    "def resta(a, b):\n",
    "    return a - b\n",
    "\n",
    "def multiplicacion(a, b):\n",
    "    return a * b\n",
    "\n",
    "def division(a, b):\n",
    "    return a / b\n",
    "\n",
    "def is_number(a):\n",
    "    return isinstance(a, (int, float, complex))\n",
    "\n",
    "def mayor_cero(a):\n",
    "    return (a > 0)\n",
    "    "
   ]
  },
  {
   "cell_type": "markdown",
   "id": "bbad336d-d398-4711-867f-19ea7c33a926",
   "metadata": {},
   "source": [
    "Creamos la función principal del programa llamada `calculadora` la cual contendrá la lógica princiapal de ejecución."
   ]
  },
  {
   "cell_type": "code",
   "execution_count": 2,
   "id": "76884886-cda0-4eed-806d-80dc6588c4ab",
   "metadata": {
    "scrolled": true
   },
   "outputs": [
    {
     "name": "stdout",
     "output_type": "stream",
     "text": [
      "Seleccione una operación:\n",
      "1. Suma\n",
      "2. Resta\n",
      "3. Multiplicación\n",
      "4. División\n",
      "0. Salir\n"
     ]
    },
    {
     "name": "stdin",
     "output_type": "stream",
     "text": [
      "Ingrese el número de la operación (0/1/2/3/4):  0\n"
     ]
    },
    {
     "name": "stdout",
     "output_type": "stream",
     "text": [
      "Cerrando calculadora...\n"
     ]
    },
    {
     "ename": "SystemExit",
     "evalue": "0",
     "output_type": "error",
     "traceback": [
      "An exception has occurred, use %tb to see the full traceback.\n",
      "\u001b[0;31mSystemExit\u001b[0m\u001b[0;31m:\u001b[0m 0\n"
     ]
    },
    {
     "name": "stderr",
     "output_type": "stream",
     "text": [
      "/home/kali/.local/share/pipx/venvs/jupyterlab/lib/python3.12/site-packages/IPython/core/interactiveshell.py:3585: UserWarning: To exit: use 'exit', 'quit', or Ctrl-D.\n",
      "  warn(\"To exit: use 'exit', 'quit', or Ctrl-D.\", stacklevel=1)\n"
     ]
    }
   ],
   "source": [
    "import sys\n",
    "\n",
    "def calculadora():\n",
    "    print(\"Seleccione una operación:\")\n",
    "    print(\"1. Suma\")\n",
    "    print(\"2. Resta\")\n",
    "    print(\"3. Multiplicación\")\n",
    "    print(\"4. División\")\n",
    "    print(\"0. Salir\")\n",
    "\n",
    "    while True:\n",
    "        operacion = input(\"Ingrese el número de la operación (0/1/2/3/4): \")\n",
    "    \n",
    "        if operacion in ['0', '1', '2', '3', '4']:\n",
    "\n",
    "            if operacion == '0':\n",
    "                print(\"Cerrando calculadora...\")\n",
    "                sys.exit(0)\n",
    "            \n",
    "            while True:\n",
    "                num1 = float(input(\"Ingrese el primer número: \"))\n",
    "                if not is_number(num1):\n",
    "                    print(\"Por favor ingrese un número\")\n",
    "                else:\n",
    "                    break\n",
    "    \n",
    "            while True:\n",
    "                num2 = float(input(\"Ingrese el segundo número: \"))\n",
    "                if not is_number(num2):\n",
    "                    print(\"Por favor ingrese un número\")\n",
    "                elif operacion=='4' and not mayor_cero(num2):\n",
    "                        print(num1, \"no es divisible entre 0\")\n",
    "                else:\n",
    "                    break\n",
    "    \n",
    "            if operacion == '1':\n",
    "                print(\"Resultado:\", suma(num1, num2))\n",
    "            elif operacion == '2':\n",
    "                print(\"Resultado:\", resta(num1, num2))\n",
    "            elif operacion == '3':\n",
    "                print(\"Resultado:\", multiplicacion(num1, num2))\n",
    "            elif operacion == '4':\n",
    "                print(\"Resultado:\", division(num1, num2))\n",
    "        else:\n",
    "            print(\"Operación no válida\")\n",
    "\n",
    "if __name__ == \"__main__\":\n",
    "    calculadora()"
   ]
  },
  {
   "cell_type": "markdown",
   "id": "e53d04e2-49f1-4448-995f-e3982ea41c33",
   "metadata": {
    "editable": true,
    "slideshow": {
     "slide_type": ""
    },
    "tags": []
   },
   "source": [
    "Aunque indique que se ha producido una excepción, emplear `sys.exit(0)` es la forma correcta de indicar que el programa ha finalizado de forma correcta."
   ]
  }
 ],
 "metadata": {
  "kernelspec": {
   "display_name": "Python 3 (ipykernel)",
   "language": "python",
   "name": "python3"
  },
  "language_info": {
   "codemirror_mode": {
    "name": "ipython",
    "version": 3
   },
   "file_extension": ".py",
   "mimetype": "text/x-python",
   "name": "python",
   "nbconvert_exporter": "python",
   "pygments_lexer": "ipython3",
   "version": "3.12.8"
  }
 },
 "nbformat": 4,
 "nbformat_minor": 5
}
