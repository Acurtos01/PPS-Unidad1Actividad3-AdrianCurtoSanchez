{
 "cells": [
  {
   "cell_type": "markdown",
   "id": "6850bdb6-9d23-4c17-86d2-41616f36ed55",
   "metadata": {},
   "source": [
    "# Tests calculadora en Python"
   ]
  },
  {
   "cell_type": "markdown",
   "id": "844f9db7-4455-42ef-8251-ccc8380deb74",
   "metadata": {},
   "source": [
    "## Test Caja Negra"
   ]
  },
  {
   "cell_type": "markdown",
   "id": "cdd3ab68-a097-4b86-a4f9-acdf59574b62",
   "metadata": {},
   "source": [
    "Dada la función `is_number()` realizaremos tests de **equivalencia** y **valores límite**."
   ]
  },
  {
   "cell_type": "code",
   "execution_count": 1,
   "id": "bd96e3d7-5f6b-46ad-9414-d02e46f8ba2a",
   "metadata": {},
   "outputs": [],
   "source": [
    "def is_number(a):\n",
    "    return isinstance(a, (int, float, complex))"
   ]
  },
  {
   "cell_type": "markdown",
   "id": "835b91fb-62eb-4311-88ee-ffa2497b8a96",
   "metadata": {},
   "source": [
    "- ### Clases o Particiones de equivalencia:\n",
    "    Probaremos los disitintos tipos de datos:\n",
    "    - Integers(1)\n",
    "    - Big Integers(1111111111111111111111111111111111111111111111111111111111111111111111)\n",
    "    - Floats(0.5)\n",
    "    - Strings(\"10.5\")\n",
    "    - Booleans(True/False)"
   ]
  },
  {
   "cell_type": "markdown",
   "id": "2e916491-d21f-4c56-ac23-8ec24a947ea4",
   "metadata": {},
   "source": [
    "- ### Valores límite:\n",
    "    Probaremos aquellos valores cercanos al cero siendo los siguientes:\n",
    "    - 1\n",
    "    - 0.1\n",
    "    - 0\n",
    "    - -1\n",
    "    - -0.1\n",
    "    "
   ]
  },
  {
   "cell_type": "markdown",
   "id": "833ea1c4-69a5-4e4c-aedf-96588a107d8a",
   "metadata": {},
   "source": [
    "En este caso podemos agrupar en una única batería de tests las clases de quivalencia y valores límite puesto que son complementarios."
   ]
  },
  {
   "cell_type": "markdown",
   "id": "343288d8-834a-459c-b722-5f2dfaa4914e",
   "metadata": {},
   "source": [
    "Creamos la clase de test `TestIsNumberBlack()` del programa llamado `CalculadoraAdrianCurtoSanchez.py` el cual importamos y le damos el alias de `ca`."
   ]
  },
  {
   "cell_type": "code",
   "execution_count": 18,
   "id": "a3e2c2bf-5dbe-4f78-a5ab-f56bb3f92360",
   "metadata": {},
   "outputs": [
    {
     "name": "stderr",
     "output_type": "stream",
     "text": [
      "test_Divisor0 (__main__.TestDivisionBlack.test_Divisor0) ... ok\n",
      "test_Positivo (__main__.TestDivisionBlack.test_Positivo) ... ok\n",
      "test_positivo (__main__.TestDivisionBlack.test_positivo) ... ok\n",
      "test_big_integer (__main__.TestIsNumberBlack.test_big_integer) ... ok\n",
      "test_boolean (__main__.TestIsNumberBlack.test_boolean) ... ok\n",
      "test_float (__main__.TestIsNumberBlack.test_float) ... ok\n",
      "test_integer (__main__.TestIsNumberBlack.test_integer) ... ok\n",
      "test_none (__main__.TestIsNumberBlack.test_none) ... ok\n",
      "test_string_non_number (__main__.TestIsNumberBlack.test_string_non_number) ... ok\n",
      "test_string_number (__main__.TestIsNumberBlack.test_string_number) ... ok\n",
      "\n",
      "----------------------------------------------------------------------\n",
      "Ran 10 tests in 0.012s\n",
      "\n",
      "OK\n"
     ]
    }
   ],
   "source": [
    "import unittest\n",
    "import CalculadoraAdrianCurtoSanchez as ca\n",
    "\n",
    "\n",
    "class TestIsNumberBlack(unittest.TestCase):\n",
    "    def test_integer(self):\n",
    "        self.assertTrue(ca.is_number(1))\n",
    "        self.assertTrue(ca.is_number(-1))\n",
    "        self.assertTrue(ca.is_number(0))\n",
    "        self.assertTrue(ca.is_number(3))\n",
    "        \n",
    "    def test_big_integer(self):\n",
    "        self.assertTrue(ca.is_number(1111111111111111111111111111111111111111111111111111111111111111111111))\n",
    "\n",
    "    def test_float(self):\n",
    "        self.assertTrue(ca.is_number(1))\n",
    "        self.assertTrue(ca.is_number(0.1))\n",
    "        self.assertTrue(ca.is_number(0))\n",
    "        self.assertTrue(ca.is_number(-1))\n",
    "        self.assertTrue(ca.is_number(-0.1))\n",
    "        self.assertTrue(ca.is_number(-0.0000000000000000000000000000000000000001))\n",
    "\n",
    "    def test_string_number(self):\n",
    "        self.assertFalse(ca.is_number(\"2.5\"))\n",
    "        self.assertFalse(ca.is_number(\"2\"))\n",
    "        self.assertFalse(ca.is_number(\"0\"))\n",
    "\n",
    "    def test_string_non_number(self):\n",
    "        self.assertFalse(ca.is_number(\"hello\"))\n",
    "        self.assertFalse(ca.is_number(\"\"))\n",
    "\n",
    "    def test_none(self):\n",
    "        self.assertFalse(ca.is_number(None))\n",
    "\n",
    "    def test_boolean(self):\n",
    "        self.assertTrue(ca.is_number(True))\n",
    "        self.assertTrue(ca.is_number(False))\n",
    "\n",
    "if __name__ == '__main__':\n",
    "    unittest.main(argv=['ignored', '-v'], exit=False)"
   ]
  },
  {
   "cell_type": "markdown",
   "id": "93ab3288-5f41-4b00-98b1-43e14c79f21d",
   "metadata": {},
   "source": [
    "Creamos la clase de test `TestDivisionBlack()` del programa llamado `CalculadoraAdrianCurtoSanchez.py`."
   ]
  },
  {
   "cell_type": "code",
   "execution_count": null,
   "id": "6ba226f6-f123-4fd0-a601-9ded4e2faa08",
   "metadata": {},
   "outputs": [],
   "source": [
    "def division(a, b):\n",
    "    return a / b"
   ]
  },
  {
   "cell_type": "code",
   "execution_count": 14,
   "id": "4bc5a6f7-5a22-457b-a651-a3aaa80205fb",
   "metadata": {},
   "outputs": [
    {
     "name": "stderr",
     "output_type": "stream",
     "text": [
      "test_Divisor0 (__main__.TestDivisionBlack.test_Divisor0) ... ok\n",
      "test_Positivo (__main__.TestDivisionBlack.test_Positivo) ... ok\n",
      "test_positivo (__main__.TestDivisionBlack.test_positivo) ... ok\n",
      "test_boolean (__main__.TestIsNumberBlack.test_boolean) ... ok\n",
      "test_float (__main__.TestIsNumberBlack.test_float) ... ok\n",
      "test_great_integer (__main__.TestIsNumberBlack.test_great_integer) ... ok\n",
      "test_integer (__main__.TestIsNumberBlack.test_integer) ... ok\n",
      "test_none (__main__.TestIsNumberBlack.test_none) ... ok\n",
      "test_string_non_number (__main__.TestIsNumberBlack.test_string_non_number) ... ok\n",
      "test_string_number (__main__.TestIsNumberBlack.test_string_number) ... ok\n",
      "\n",
      "----------------------------------------------------------------------\n",
      "Ran 10 tests in 0.009s\n",
      "\n",
      "OK\n"
     ]
    }
   ],
   "source": [
    "import unittest\n",
    "import CalculadoraAdrianCurtoSanchez as ca\n",
    "\n",
    "\n",
    "class TestDivisionBlack(unittest.TestCase):\n",
    "    def test_Positivo(self):\n",
    "        self.assertEqual(ca.division(1,1),1)\n",
    "        \n",
    "    def test_Divisor0(self):\n",
    "        with self.assertRaises(ZeroDivisionError): \n",
    "            ca.division(1, 0)\n",
    "        \n",
    "    def test_positivo(self):\n",
    "        self.assertEqual(ca.division(1,3),0.3333333333333333)\n",
    "\n",
    "if __name__ == '__main__':\n",
    "    unittest.main(argv=['ignored', '-v'], exit=False)"
   ]
  },
  {
   "cell_type": "markdown",
   "id": "07de9088-875f-494f-8c21-8ca7e750a2de",
   "metadata": {},
   "source": [
    "## Test Caja Blanca"
   ]
  },
  {
   "cell_type": "markdown",
   "id": "0a85d8bd-c5b6-4f04-bfb2-bfd1b8989c6d",
   "metadata": {},
   "source": [
    "Para los test de caja blanca deberemos conocer la lógica interna del código para así poder crear digrama de flujo del código y poder cubrir todas sus línias de código."
   ]
  },
  {
   "cell_type": "code",
   "execution_count": 1,
   "id": "2d5071c7-251e-46ac-8621-ec8d730bb66d",
   "metadata": {},
   "outputs": [],
   "source": [
    "def is_number(a):\n",
    "    return isinstance(a, (int, float, complex))"
   ]
  },
  {
   "cell_type": "code",
   "execution_count": null,
   "id": "127c95a3-6a0e-489d-8ae6-2ad8171b51b0",
   "metadata": {},
   "outputs": [],
   "source": [
    "def division(a, b):\n",
    "    return a / b"
   ]
  },
  {
   "cell_type": "code",
   "execution_count": null,
   "id": "153ab640-93e0-46b5-83cd-7784b5f409d6",
   "metadata": {},
   "outputs": [],
   "source": [
    "def multiplicacion(a, b):\n",
    "    return a * b"
   ]
  }
 ],
 "metadata": {
  "kernelspec": {
   "display_name": "Python 3 (ipykernel)",
   "language": "python",
   "name": "python3"
  },
  "language_info": {
   "codemirror_mode": {
    "name": "ipython",
    "version": 3
   },
   "file_extension": ".py",
   "mimetype": "text/x-python",
   "name": "python",
   "nbconvert_exporter": "python",
   "pygments_lexer": "ipython3",
   "version": "3.12.8"
  }
 },
 "nbformat": 4,
 "nbformat_minor": 5
}
